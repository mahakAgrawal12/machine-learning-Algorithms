{
 "cells": [
  {
   "cell_type": "code",
   "execution_count": 1,
   "id": "db284b3e",
   "metadata": {},
   "outputs": [],
   "source": [
    "import pandas as pd\n",
    "import numpy as np\n",
    "import random as rd\n",
    "from sklearn.decomposition import PCA\n",
    "from sklearn import preprocessing\n",
    "import matplotlib.pyplot as plt"
   ]
  },
  {
   "cell_type": "code",
   "execution_count": 2,
   "id": "6ea1c93f",
   "metadata": {},
   "outputs": [],
   "source": [
    "genes=['gene' +str(i) for i in range(1,101)]"
   ]
  },
  {
   "cell_type": "code",
   "execution_count": 3,
   "id": "5f8202da",
   "metadata": {},
   "outputs": [
    {
     "data": {
      "text/plain": [
       "['gene1',\n",
       " 'gene2',\n",
       " 'gene3',\n",
       " 'gene4',\n",
       " 'gene5',\n",
       " 'gene6',\n",
       " 'gene7',\n",
       " 'gene8',\n",
       " 'gene9',\n",
       " 'gene10',\n",
       " 'gene11',\n",
       " 'gene12',\n",
       " 'gene13',\n",
       " 'gene14',\n",
       " 'gene15',\n",
       " 'gene16',\n",
       " 'gene17',\n",
       " 'gene18',\n",
       " 'gene19',\n",
       " 'gene20',\n",
       " 'gene21',\n",
       " 'gene22',\n",
       " 'gene23',\n",
       " 'gene24',\n",
       " 'gene25',\n",
       " 'gene26',\n",
       " 'gene27',\n",
       " 'gene28',\n",
       " 'gene29',\n",
       " 'gene30',\n",
       " 'gene31',\n",
       " 'gene32',\n",
       " 'gene33',\n",
       " 'gene34',\n",
       " 'gene35',\n",
       " 'gene36',\n",
       " 'gene37',\n",
       " 'gene38',\n",
       " 'gene39',\n",
       " 'gene40',\n",
       " 'gene41',\n",
       " 'gene42',\n",
       " 'gene43',\n",
       " 'gene44',\n",
       " 'gene45',\n",
       " 'gene46',\n",
       " 'gene47',\n",
       " 'gene48',\n",
       " 'gene49',\n",
       " 'gene50',\n",
       " 'gene51',\n",
       " 'gene52',\n",
       " 'gene53',\n",
       " 'gene54',\n",
       " 'gene55',\n",
       " 'gene56',\n",
       " 'gene57',\n",
       " 'gene58',\n",
       " 'gene59',\n",
       " 'gene60',\n",
       " 'gene61',\n",
       " 'gene62',\n",
       " 'gene63',\n",
       " 'gene64',\n",
       " 'gene65',\n",
       " 'gene66',\n",
       " 'gene67',\n",
       " 'gene68',\n",
       " 'gene69',\n",
       " 'gene70',\n",
       " 'gene71',\n",
       " 'gene72',\n",
       " 'gene73',\n",
       " 'gene74',\n",
       " 'gene75',\n",
       " 'gene76',\n",
       " 'gene77',\n",
       " 'gene78',\n",
       " 'gene79',\n",
       " 'gene80',\n",
       " 'gene81',\n",
       " 'gene82',\n",
       " 'gene83',\n",
       " 'gene84',\n",
       " 'gene85',\n",
       " 'gene86',\n",
       " 'gene87',\n",
       " 'gene88',\n",
       " 'gene89',\n",
       " 'gene90',\n",
       " 'gene91',\n",
       " 'gene92',\n",
       " 'gene93',\n",
       " 'gene94',\n",
       " 'gene95',\n",
       " 'gene96',\n",
       " 'gene97',\n",
       " 'gene98',\n",
       " 'gene99',\n",
       " 'gene100']"
      ]
     },
     "execution_count": 3,
     "metadata": {},
     "output_type": "execute_result"
    }
   ],
   "source": [
    "genes"
   ]
  },
  {
   "cell_type": "code",
   "execution_count": 4,
   "id": "e8f6e410",
   "metadata": {},
   "outputs": [],
   "source": [
    "wt=['wt' +str(i) for i in range(1,6)]"
   ]
  },
  {
   "cell_type": "code",
   "execution_count": 5,
   "id": "86463bde",
   "metadata": {},
   "outputs": [
    {
     "data": {
      "text/plain": [
       "['wt1', 'wt2', 'wt3', 'wt4', 'wt5']"
      ]
     },
     "execution_count": 5,
     "metadata": {},
     "output_type": "execute_result"
    }
   ],
   "source": [
    "wt"
   ]
  },
  {
   "cell_type": "code",
   "execution_count": 6,
   "id": "bcef7817",
   "metadata": {},
   "outputs": [],
   "source": [
    "ko=['ko' +str(i) for i in range(1,6)]"
   ]
  },
  {
   "cell_type": "code",
   "execution_count": 7,
   "id": "a36ed775",
   "metadata": {},
   "outputs": [
    {
     "data": {
      "text/plain": [
       "['ko1', 'ko2', 'ko3', 'ko4', 'ko5']"
      ]
     },
     "execution_count": 7,
     "metadata": {},
     "output_type": "execute_result"
    }
   ],
   "source": [
    "ko"
   ]
  },
  {
   "cell_type": "code",
   "execution_count": 8,
   "id": "67db083d",
   "metadata": {},
   "outputs": [],
   "source": [
    "data=pd.DataFrame(columns=[*wt,*ko],index=genes)"
   ]
  },
  {
   "cell_type": "code",
   "execution_count": 9,
   "id": "68b55335",
   "metadata": {},
   "outputs": [
    {
     "data": {
      "text/html": [
       "<div>\n",
       "<style scoped>\n",
       "    .dataframe tbody tr th:only-of-type {\n",
       "        vertical-align: middle;\n",
       "    }\n",
       "\n",
       "    .dataframe tbody tr th {\n",
       "        vertical-align: top;\n",
       "    }\n",
       "\n",
       "    .dataframe thead th {\n",
       "        text-align: right;\n",
       "    }\n",
       "</style>\n",
       "<table border=\"1\" class=\"dataframe\">\n",
       "  <thead>\n",
       "    <tr style=\"text-align: right;\">\n",
       "      <th></th>\n",
       "      <th>wt1</th>\n",
       "      <th>wt2</th>\n",
       "      <th>wt3</th>\n",
       "      <th>wt4</th>\n",
       "      <th>wt5</th>\n",
       "      <th>ko1</th>\n",
       "      <th>ko2</th>\n",
       "      <th>ko3</th>\n",
       "      <th>ko4</th>\n",
       "      <th>ko5</th>\n",
       "    </tr>\n",
       "  </thead>\n",
       "  <tbody>\n",
       "    <tr>\n",
       "      <th>gene1</th>\n",
       "      <td>NaN</td>\n",
       "      <td>NaN</td>\n",
       "      <td>NaN</td>\n",
       "      <td>NaN</td>\n",
       "      <td>NaN</td>\n",
       "      <td>NaN</td>\n",
       "      <td>NaN</td>\n",
       "      <td>NaN</td>\n",
       "      <td>NaN</td>\n",
       "      <td>NaN</td>\n",
       "    </tr>\n",
       "    <tr>\n",
       "      <th>gene2</th>\n",
       "      <td>NaN</td>\n",
       "      <td>NaN</td>\n",
       "      <td>NaN</td>\n",
       "      <td>NaN</td>\n",
       "      <td>NaN</td>\n",
       "      <td>NaN</td>\n",
       "      <td>NaN</td>\n",
       "      <td>NaN</td>\n",
       "      <td>NaN</td>\n",
       "      <td>NaN</td>\n",
       "    </tr>\n",
       "    <tr>\n",
       "      <th>gene3</th>\n",
       "      <td>NaN</td>\n",
       "      <td>NaN</td>\n",
       "      <td>NaN</td>\n",
       "      <td>NaN</td>\n",
       "      <td>NaN</td>\n",
       "      <td>NaN</td>\n",
       "      <td>NaN</td>\n",
       "      <td>NaN</td>\n",
       "      <td>NaN</td>\n",
       "      <td>NaN</td>\n",
       "    </tr>\n",
       "    <tr>\n",
       "      <th>gene4</th>\n",
       "      <td>NaN</td>\n",
       "      <td>NaN</td>\n",
       "      <td>NaN</td>\n",
       "      <td>NaN</td>\n",
       "      <td>NaN</td>\n",
       "      <td>NaN</td>\n",
       "      <td>NaN</td>\n",
       "      <td>NaN</td>\n",
       "      <td>NaN</td>\n",
       "      <td>NaN</td>\n",
       "    </tr>\n",
       "    <tr>\n",
       "      <th>gene5</th>\n",
       "      <td>NaN</td>\n",
       "      <td>NaN</td>\n",
       "      <td>NaN</td>\n",
       "      <td>NaN</td>\n",
       "      <td>NaN</td>\n",
       "      <td>NaN</td>\n",
       "      <td>NaN</td>\n",
       "      <td>NaN</td>\n",
       "      <td>NaN</td>\n",
       "      <td>NaN</td>\n",
       "    </tr>\n",
       "    <tr>\n",
       "      <th>...</th>\n",
       "      <td>...</td>\n",
       "      <td>...</td>\n",
       "      <td>...</td>\n",
       "      <td>...</td>\n",
       "      <td>...</td>\n",
       "      <td>...</td>\n",
       "      <td>...</td>\n",
       "      <td>...</td>\n",
       "      <td>...</td>\n",
       "      <td>...</td>\n",
       "    </tr>\n",
       "    <tr>\n",
       "      <th>gene96</th>\n",
       "      <td>NaN</td>\n",
       "      <td>NaN</td>\n",
       "      <td>NaN</td>\n",
       "      <td>NaN</td>\n",
       "      <td>NaN</td>\n",
       "      <td>NaN</td>\n",
       "      <td>NaN</td>\n",
       "      <td>NaN</td>\n",
       "      <td>NaN</td>\n",
       "      <td>NaN</td>\n",
       "    </tr>\n",
       "    <tr>\n",
       "      <th>gene97</th>\n",
       "      <td>NaN</td>\n",
       "      <td>NaN</td>\n",
       "      <td>NaN</td>\n",
       "      <td>NaN</td>\n",
       "      <td>NaN</td>\n",
       "      <td>NaN</td>\n",
       "      <td>NaN</td>\n",
       "      <td>NaN</td>\n",
       "      <td>NaN</td>\n",
       "      <td>NaN</td>\n",
       "    </tr>\n",
       "    <tr>\n",
       "      <th>gene98</th>\n",
       "      <td>NaN</td>\n",
       "      <td>NaN</td>\n",
       "      <td>NaN</td>\n",
       "      <td>NaN</td>\n",
       "      <td>NaN</td>\n",
       "      <td>NaN</td>\n",
       "      <td>NaN</td>\n",
       "      <td>NaN</td>\n",
       "      <td>NaN</td>\n",
       "      <td>NaN</td>\n",
       "    </tr>\n",
       "    <tr>\n",
       "      <th>gene99</th>\n",
       "      <td>NaN</td>\n",
       "      <td>NaN</td>\n",
       "      <td>NaN</td>\n",
       "      <td>NaN</td>\n",
       "      <td>NaN</td>\n",
       "      <td>NaN</td>\n",
       "      <td>NaN</td>\n",
       "      <td>NaN</td>\n",
       "      <td>NaN</td>\n",
       "      <td>NaN</td>\n",
       "    </tr>\n",
       "    <tr>\n",
       "      <th>gene100</th>\n",
       "      <td>NaN</td>\n",
       "      <td>NaN</td>\n",
       "      <td>NaN</td>\n",
       "      <td>NaN</td>\n",
       "      <td>NaN</td>\n",
       "      <td>NaN</td>\n",
       "      <td>NaN</td>\n",
       "      <td>NaN</td>\n",
       "      <td>NaN</td>\n",
       "      <td>NaN</td>\n",
       "    </tr>\n",
       "  </tbody>\n",
       "</table>\n",
       "<p>100 rows × 10 columns</p>\n",
       "</div>"
      ],
      "text/plain": [
       "         wt1  wt2  wt3  wt4  wt5  ko1  ko2  ko3  ko4  ko5\n",
       "gene1    NaN  NaN  NaN  NaN  NaN  NaN  NaN  NaN  NaN  NaN\n",
       "gene2    NaN  NaN  NaN  NaN  NaN  NaN  NaN  NaN  NaN  NaN\n",
       "gene3    NaN  NaN  NaN  NaN  NaN  NaN  NaN  NaN  NaN  NaN\n",
       "gene4    NaN  NaN  NaN  NaN  NaN  NaN  NaN  NaN  NaN  NaN\n",
       "gene5    NaN  NaN  NaN  NaN  NaN  NaN  NaN  NaN  NaN  NaN\n",
       "...      ...  ...  ...  ...  ...  ...  ...  ...  ...  ...\n",
       "gene96   NaN  NaN  NaN  NaN  NaN  NaN  NaN  NaN  NaN  NaN\n",
       "gene97   NaN  NaN  NaN  NaN  NaN  NaN  NaN  NaN  NaN  NaN\n",
       "gene98   NaN  NaN  NaN  NaN  NaN  NaN  NaN  NaN  NaN  NaN\n",
       "gene99   NaN  NaN  NaN  NaN  NaN  NaN  NaN  NaN  NaN  NaN\n",
       "gene100  NaN  NaN  NaN  NaN  NaN  NaN  NaN  NaN  NaN  NaN\n",
       "\n",
       "[100 rows x 10 columns]"
      ]
     },
     "execution_count": 9,
     "metadata": {},
     "output_type": "execute_result"
    }
   ],
   "source": [
    "data"
   ]
  },
  {
   "cell_type": "code",
   "execution_count": 12,
   "id": "6d602471",
   "metadata": {},
   "outputs": [],
   "source": [
    "for gene in data.index:\n",
    "    data.loc[gene,'wt1' : 'wt5']=np.random.poisson(lam=rd.randrange(10,1000),size=5)\n",
    "    data.loc[gene,'ko1' : 'ko5']=np.random.poisson(lam=rd.randrange(10,1000),size=5)"
   ]
  },
  {
   "cell_type": "code",
   "execution_count": 15,
   "id": "2efa3cd9",
   "metadata": {},
   "outputs": [
    {
     "data": {
      "text/html": [
       "<div>\n",
       "<style scoped>\n",
       "    .dataframe tbody tr th:only-of-type {\n",
       "        vertical-align: middle;\n",
       "    }\n",
       "\n",
       "    .dataframe tbody tr th {\n",
       "        vertical-align: top;\n",
       "    }\n",
       "\n",
       "    .dataframe thead th {\n",
       "        text-align: right;\n",
       "    }\n",
       "</style>\n",
       "<table border=\"1\" class=\"dataframe\">\n",
       "  <thead>\n",
       "    <tr style=\"text-align: right;\">\n",
       "      <th></th>\n",
       "      <th>wt1</th>\n",
       "      <th>wt2</th>\n",
       "      <th>wt3</th>\n",
       "      <th>wt4</th>\n",
       "      <th>wt5</th>\n",
       "      <th>ko1</th>\n",
       "      <th>ko2</th>\n",
       "      <th>ko3</th>\n",
       "      <th>ko4</th>\n",
       "      <th>ko5</th>\n",
       "    </tr>\n",
       "  </thead>\n",
       "  <tbody>\n",
       "    <tr>\n",
       "      <th>gene1</th>\n",
       "      <td>478</td>\n",
       "      <td>471</td>\n",
       "      <td>455</td>\n",
       "      <td>470</td>\n",
       "      <td>452</td>\n",
       "      <td>413</td>\n",
       "      <td>463</td>\n",
       "      <td>414</td>\n",
       "      <td>451</td>\n",
       "      <td>455</td>\n",
       "    </tr>\n",
       "    <tr>\n",
       "      <th>gene2</th>\n",
       "      <td>902</td>\n",
       "      <td>882</td>\n",
       "      <td>894</td>\n",
       "      <td>897</td>\n",
       "      <td>912</td>\n",
       "      <td>108</td>\n",
       "      <td>102</td>\n",
       "      <td>120</td>\n",
       "      <td>136</td>\n",
       "      <td>136</td>\n",
       "    </tr>\n",
       "    <tr>\n",
       "      <th>gene3</th>\n",
       "      <td>55</td>\n",
       "      <td>47</td>\n",
       "      <td>49</td>\n",
       "      <td>50</td>\n",
       "      <td>60</td>\n",
       "      <td>828</td>\n",
       "      <td>834</td>\n",
       "      <td>796</td>\n",
       "      <td>864</td>\n",
       "      <td>753</td>\n",
       "    </tr>\n",
       "    <tr>\n",
       "      <th>gene4</th>\n",
       "      <td>398</td>\n",
       "      <td>387</td>\n",
       "      <td>403</td>\n",
       "      <td>370</td>\n",
       "      <td>371</td>\n",
       "      <td>80</td>\n",
       "      <td>62</td>\n",
       "      <td>95</td>\n",
       "      <td>92</td>\n",
       "      <td>88</td>\n",
       "    </tr>\n",
       "    <tr>\n",
       "      <th>gene5</th>\n",
       "      <td>830</td>\n",
       "      <td>874</td>\n",
       "      <td>904</td>\n",
       "      <td>879</td>\n",
       "      <td>910</td>\n",
       "      <td>286</td>\n",
       "      <td>331</td>\n",
       "      <td>300</td>\n",
       "      <td>311</td>\n",
       "      <td>292</td>\n",
       "    </tr>\n",
       "    <tr>\n",
       "      <th>...</th>\n",
       "      <td>...</td>\n",
       "      <td>...</td>\n",
       "      <td>...</td>\n",
       "      <td>...</td>\n",
       "      <td>...</td>\n",
       "      <td>...</td>\n",
       "      <td>...</td>\n",
       "      <td>...</td>\n",
       "      <td>...</td>\n",
       "      <td>...</td>\n",
       "    </tr>\n",
       "    <tr>\n",
       "      <th>gene96</th>\n",
       "      <td>267</td>\n",
       "      <td>322</td>\n",
       "      <td>264</td>\n",
       "      <td>273</td>\n",
       "      <td>257</td>\n",
       "      <td>427</td>\n",
       "      <td>425</td>\n",
       "      <td>418</td>\n",
       "      <td>417</td>\n",
       "      <td>428</td>\n",
       "    </tr>\n",
       "    <tr>\n",
       "      <th>gene97</th>\n",
       "      <td>760</td>\n",
       "      <td>796</td>\n",
       "      <td>773</td>\n",
       "      <td>852</td>\n",
       "      <td>825</td>\n",
       "      <td>878</td>\n",
       "      <td>896</td>\n",
       "      <td>912</td>\n",
       "      <td>986</td>\n",
       "      <td>886</td>\n",
       "    </tr>\n",
       "    <tr>\n",
       "      <th>gene98</th>\n",
       "      <td>405</td>\n",
       "      <td>443</td>\n",
       "      <td>417</td>\n",
       "      <td>447</td>\n",
       "      <td>457</td>\n",
       "      <td>917</td>\n",
       "      <td>872</td>\n",
       "      <td>882</td>\n",
       "      <td>918</td>\n",
       "      <td>878</td>\n",
       "    </tr>\n",
       "    <tr>\n",
       "      <th>gene99</th>\n",
       "      <td>79</td>\n",
       "      <td>99</td>\n",
       "      <td>88</td>\n",
       "      <td>76</td>\n",
       "      <td>91</td>\n",
       "      <td>905</td>\n",
       "      <td>893</td>\n",
       "      <td>953</td>\n",
       "      <td>901</td>\n",
       "      <td>945</td>\n",
       "    </tr>\n",
       "    <tr>\n",
       "      <th>gene100</th>\n",
       "      <td>576</td>\n",
       "      <td>535</td>\n",
       "      <td>577</td>\n",
       "      <td>560</td>\n",
       "      <td>562</td>\n",
       "      <td>184</td>\n",
       "      <td>215</td>\n",
       "      <td>217</td>\n",
       "      <td>200</td>\n",
       "      <td>190</td>\n",
       "    </tr>\n",
       "  </tbody>\n",
       "</table>\n",
       "<p>100 rows × 10 columns</p>\n",
       "</div>"
      ],
      "text/plain": [
       "         wt1  wt2  wt3  wt4  wt5  ko1  ko2  ko3  ko4  ko5\n",
       "gene1    478  471  455  470  452  413  463  414  451  455\n",
       "gene2    902  882  894  897  912  108  102  120  136  136\n",
       "gene3     55   47   49   50   60  828  834  796  864  753\n",
       "gene4    398  387  403  370  371   80   62   95   92   88\n",
       "gene5    830  874  904  879  910  286  331  300  311  292\n",
       "...      ...  ...  ...  ...  ...  ...  ...  ...  ...  ...\n",
       "gene96   267  322  264  273  257  427  425  418  417  428\n",
       "gene97   760  796  773  852  825  878  896  912  986  886\n",
       "gene98   405  443  417  447  457  917  872  882  918  878\n",
       "gene99    79   99   88   76   91  905  893  953  901  945\n",
       "gene100  576  535  577  560  562  184  215  217  200  190\n",
       "\n",
       "[100 rows x 10 columns]"
      ]
     },
     "execution_count": 15,
     "metadata": {},
     "output_type": "execute_result"
    }
   ],
   "source": [
    "data.head(100)"
   ]
  },
  {
   "cell_type": "code",
   "execution_count": 16,
   "id": "b9c8495e",
   "metadata": {},
   "outputs": [
    {
     "data": {
      "text/plain": [
       "(100, 10)"
      ]
     },
     "execution_count": 16,
     "metadata": {},
     "output_type": "execute_result"
    }
   ],
   "source": [
    "data.shape"
   ]
  },
  {
   "cell_type": "markdown",
   "id": "b51da150",
   "metadata": {},
   "source": [
    "# Prerocessing of Data"
   ]
  },
  {
   "cell_type": "code",
   "execution_count": 17,
   "id": "0041ea60",
   "metadata": {},
   "outputs": [],
   "source": [
    "scaled_data=preprocessing.scale(data.T)"
   ]
  },
  {
   "cell_type": "markdown",
   "id": "99170c3d",
   "metadata": {},
   "source": [
    "# Creating PCA Model"
   ]
  },
  {
   "cell_type": "code",
   "execution_count": 18,
   "id": "305affb7",
   "metadata": {},
   "outputs": [],
   "source": [
    "pca=PCA()"
   ]
  },
  {
   "cell_type": "code",
   "execution_count": 19,
   "id": "ac74ea85",
   "metadata": {},
   "outputs": [
    {
     "data": {
      "text/plain": [
       "PCA()"
      ]
     },
     "execution_count": 19,
     "metadata": {},
     "output_type": "execute_result"
    }
   ],
   "source": [
    "pca.fit(scaled_data)"
   ]
  },
  {
   "cell_type": "code",
   "execution_count": 22,
   "id": "6bb6b6f5",
   "metadata": {},
   "outputs": [],
   "source": [
    "pcs_data=pca.transform(scaled_data)"
   ]
  },
  {
   "cell_type": "code",
   "execution_count": 23,
   "id": "127e02a7",
   "metadata": {},
   "outputs": [],
   "source": [
    "per_var=np.round(pca.explained_variance_ratio_*100,decimals=1)"
   ]
  },
  {
   "cell_type": "code",
   "execution_count": 25,
   "id": "8634823d",
   "metadata": {},
   "outputs": [],
   "source": [
    "labels=['PC' +str(x) for x in range(1,len(per_var)+1)]"
   ]
  },
  {
   "cell_type": "code",
   "execution_count": 26,
   "id": "49113ba2",
   "metadata": {},
   "outputs": [
    {
     "data": {
      "image/png": "[encoded data removed]",
      "text/plain": [
       "<Figure size 432x288 with 1 Axes>"
      ]
     },
     "metadata": {
      "needs_background": "light"
     },
     "output_type": "display_data"
    }
   ],
   "source": [
    "plt.bar(x=range(1,len(per_var)+1),height=per_var, tick_label=labels)\n",
    "plt.ylabel('Percentage of Explained Variance')\n",
    "plt.xlabel('Principal Component')\n",
    "plt.title('Scree plot')\n",
    "plt.show()"
   ]
  },
  {
   "cell_type": "code",
   "execution_count": null,
   "id": "4541a7a1",
   "metadata": {},
   "outputs": [],
   "source": []
  }
 ],
 "metadata": {
  "kernelspec": {
   "display_name": "Python 3",
   "language": "python",
   "name": "python3"
  },
  "language_info": {
   "codemirror_mode": {
    "name": "ipython",
    "version": 3
   },
   "file_extension": ".py",
   "mimetype": "text/x-python",
   "name": "python",
   "nbconvert_exporter": "python",
   "pygments_lexer": "ipython3",
   "version": "3.8.8"
  }
 },
 "nbformat": 4,
 "nbformat_minor": 5
}
